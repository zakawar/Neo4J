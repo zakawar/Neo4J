{
 "cells": [
  {
   "cell_type": "code",
   "execution_count": 14,
   "metadata": {},
   "outputs": [],
   "source": [
    "import pandas as pd\n",
    "from py2neo import Graph\n",
    "from py2neo.bulk import create_nodes, create_relationships\n",
    "import json\n",
    "import pprint\n",
    "import db_credential as db_cre"
   ]
  },
  {
   "cell_type": "code",
   "execution_count": 15,
   "metadata": {},
   "outputs": [],
   "source": [
    "data = pd.read_csv('data/dgedges.csv')"
   ]
  },
  {
   "cell_type": "code",
   "execution_count": 16,
   "metadata": {},
   "outputs": [
    {
     "data": {
      "text/html": [
       "<div>\n",
       "<style scoped>\n",
       "    .dataframe tbody tr th:only-of-type {\n",
       "        vertical-align: middle;\n",
       "    }\n",
       "\n",
       "    .dataframe tbody tr th {\n",
       "        vertical-align: top;\n",
       "    }\n",
       "\n",
       "    .dataframe thead th {\n",
       "        text-align: right;\n",
       "    }\n",
       "</style>\n",
       "<table border=\"1\" class=\"dataframe\">\n",
       "  <thead>\n",
       "    <tr style=\"text-align: right;\">\n",
       "      <th></th>\n",
       "      <th>Source</th>\n",
       "      <th>AName</th>\n",
       "      <th>AType</th>\n",
       "      <th>ASource</th>\n",
       "      <th>Target</th>\n",
       "      <th>BName</th>\n",
       "      <th>BType</th>\n",
       "      <th>BSource</th>\n",
       "    </tr>\n",
       "  </thead>\n",
       "  <tbody>\n",
       "    <tr>\n",
       "      <th>0</th>\n",
       "      <td>FD00000</td>\n",
       "      <td>11-beta-hydroxylase deficiency</td>\n",
       "      <td>disease</td>\n",
       "      <td>faers</td>\n",
       "      <td>FG0736</td>\n",
       "      <td>CYP11B1</td>\n",
       "      <td>gene</td>\n",
       "      <td>MalaCards</td>\n",
       "    </tr>\n",
       "    <tr>\n",
       "      <th>1</th>\n",
       "      <td>FD00001</td>\n",
       "      <td>17-alpha-hydroxylase deficiency</td>\n",
       "      <td>disease</td>\n",
       "      <td>faers</td>\n",
       "      <td>FG0738</td>\n",
       "      <td>CYP17A1</td>\n",
       "      <td>gene</td>\n",
       "      <td>MalaCards</td>\n",
       "    </tr>\n",
       "    <tr>\n",
       "      <th>2</th>\n",
       "      <td>FD00003</td>\n",
       "      <td>21-hydroxylase deficiency</td>\n",
       "      <td>disease</td>\n",
       "      <td>faers</td>\n",
       "      <td>FG0743</td>\n",
       "      <td>CYP21A2</td>\n",
       "      <td>gene</td>\n",
       "      <td>MalaCards</td>\n",
       "    </tr>\n",
       "    <tr>\n",
       "      <th>3</th>\n",
       "      <td>FD00016</td>\n",
       "      <td>aids dementia complex</td>\n",
       "      <td>disease</td>\n",
       "      <td>faers</td>\n",
       "      <td>FG1584</td>\n",
       "      <td>ITIH4</td>\n",
       "      <td>gene</td>\n",
       "      <td>MalaCards</td>\n",
       "    </tr>\n",
       "    <tr>\n",
       "      <th>4</th>\n",
       "      <td>FD00016</td>\n",
       "      <td>aids dementia complex</td>\n",
       "      <td>disease</td>\n",
       "      <td>faers</td>\n",
       "      <td>FG0728</td>\n",
       "      <td>CXCR4</td>\n",
       "      <td>gene</td>\n",
       "      <td>MalaCards</td>\n",
       "    </tr>\n",
       "    <tr>\n",
       "      <th>...</th>\n",
       "      <td>...</td>\n",
       "      <td>...</td>\n",
       "      <td>...</td>\n",
       "      <td>...</td>\n",
       "      <td>...</td>\n",
       "      <td>...</td>\n",
       "      <td>...</td>\n",
       "      <td>...</td>\n",
       "    </tr>\n",
       "    <tr>\n",
       "      <th>12719</th>\n",
       "      <td>FD15348</td>\n",
       "      <td>xanthomatosis</td>\n",
       "      <td>disease</td>\n",
       "      <td>faers</td>\n",
       "      <td>FG2427</td>\n",
       "      <td>NR1H4</td>\n",
       "      <td>gene</td>\n",
       "      <td>MalaCards</td>\n",
       "    </tr>\n",
       "    <tr>\n",
       "      <th>12720</th>\n",
       "      <td>FD15348</td>\n",
       "      <td>xanthomatosis</td>\n",
       "      <td>disease</td>\n",
       "      <td>faers</td>\n",
       "      <td>FG0753</td>\n",
       "      <td>CYP3A4</td>\n",
       "      <td>gene</td>\n",
       "      <td>MalaCards</td>\n",
       "    </tr>\n",
       "    <tr>\n",
       "      <th>12721</th>\n",
       "      <td>FD15352</td>\n",
       "      <td>xerophthalmia</td>\n",
       "      <td>disease</td>\n",
       "      <td>faers</td>\n",
       "      <td>FG2836</td>\n",
       "      <td>RHO</td>\n",
       "      <td>gene</td>\n",
       "      <td>MalaCards</td>\n",
       "    </tr>\n",
       "    <tr>\n",
       "      <th>12722</th>\n",
       "      <td>FD15357</td>\n",
       "      <td>yellow fever</td>\n",
       "      <td>disease</td>\n",
       "      <td>faers</td>\n",
       "      <td>FG2921</td>\n",
       "      <td>SCP2</td>\n",
       "      <td>gene</td>\n",
       "      <td>MalaCards</td>\n",
       "    </tr>\n",
       "    <tr>\n",
       "      <th>12723</th>\n",
       "      <td>FD15367</td>\n",
       "      <td>zinc deficiency</td>\n",
       "      <td>disease</td>\n",
       "      <td>faers</td>\n",
       "      <td>FG3030</td>\n",
       "      <td>SLC30A2</td>\n",
       "      <td>gene</td>\n",
       "      <td>MalaCards</td>\n",
       "    </tr>\n",
       "  </tbody>\n",
       "</table>\n",
       "<p>12724 rows × 8 columns</p>\n",
       "</div>"
      ],
      "text/plain": [
       "        Source                            AName    AType ASource  Target  \\\n",
       "0      FD00000   11-beta-hydroxylase deficiency  disease   faers  FG0736   \n",
       "1      FD00001  17-alpha-hydroxylase deficiency  disease   faers  FG0738   \n",
       "2      FD00003        21-hydroxylase deficiency  disease   faers  FG0743   \n",
       "3      FD00016            aids dementia complex  disease   faers  FG1584   \n",
       "4      FD00016            aids dementia complex  disease   faers  FG0728   \n",
       "...        ...                              ...      ...     ...     ...   \n",
       "12719  FD15348                    xanthomatosis  disease   faers  FG2427   \n",
       "12720  FD15348                    xanthomatosis  disease   faers  FG0753   \n",
       "12721  FD15352                    xerophthalmia  disease   faers  FG2836   \n",
       "12722  FD15357                     yellow fever  disease   faers  FG2921   \n",
       "12723  FD15367                  zinc deficiency  disease   faers  FG3030   \n",
       "\n",
       "         BName BType    BSource  \n",
       "0      CYP11B1  gene  MalaCards  \n",
       "1      CYP17A1  gene  MalaCards  \n",
       "2      CYP21A2  gene  MalaCards  \n",
       "3        ITIH4  gene  MalaCards  \n",
       "4        CXCR4  gene  MalaCards  \n",
       "...        ...   ...        ...  \n",
       "12719    NR1H4  gene  MalaCards  \n",
       "12720   CYP3A4  gene  MalaCards  \n",
       "12721      RHO  gene  MalaCards  \n",
       "12722     SCP2  gene  MalaCards  \n",
       "12723  SLC30A2  gene  MalaCards  \n",
       "\n",
       "[12724 rows x 8 columns]"
      ]
     },
     "execution_count": 16,
     "metadata": {},
     "output_type": "execute_result"
    }
   ],
   "source": [
    "data"
   ]
  },
  {
   "cell_type": "markdown",
   "metadata": {},
   "source": [
    "### Extract from the dataframe all fields related to diseases."
   ]
  },
  {
   "cell_type": "code",
   "execution_count": 17,
   "metadata": {},
   "outputs": [],
   "source": [
    "json_disease = data.filter(['AName','Source', 'AType', 'ASource']).\\\n",
    "    drop_duplicates('AName', keep='last').\\\n",
    "    to_json(orient='records')\n",
    "dict_disease = json.loads(json_disease)"
   ]
  },
  {
   "cell_type": "markdown",
   "metadata": {},
   "source": [
    "### Extract from the dataframe all fields related to genes."
   ]
  },
  {
   "cell_type": "code",
   "execution_count": 18,
   "metadata": {},
   "outputs": [],
   "source": [
    "json_gene = data.filter([ 'BName','Target','BType', 'BSource']).\\\n",
    "    drop_duplicates('BName', keep='last').\\\n",
    "    to_json(orient='records')\n",
    "dict_gene = json.loads(json_gene)"
   ]
  },
  {
   "cell_type": "markdown",
   "metadata": {},
   "source": [
    "### Create a relationship between diseases and genes by relating theirs names."
   ]
  },
  {
   "cell_type": "code",
   "execution_count": 19,
   "metadata": {},
   "outputs": [],
   "source": [
    "json_relationship = data.filter(['AName', 'BName']).\\\n",
    "    to_json(orient='records')\n",
    "dict_relationship = json.loads(json_relationship)"
   ]
  },
  {
   "cell_type": "markdown",
   "metadata": {},
   "source": [
    "### Etablish a connection to the Graph database"
   ]
  },
  {
   "cell_type": "code",
   "execution_count": 20,
   "metadata": {},
   "outputs": [],
   "source": [
    "graph = Graph(db_cre.Connection_URI, auth=(db_cre.USER, db_cre.PASSWORD))"
   ]
  },
  {
   "cell_type": "markdown",
   "metadata": {},
   "source": [
    "### Create in the DB to diseases nodes"
   ]
  },
  {
   "cell_type": "code",
   "execution_count": 21,
   "metadata": {},
   "outputs": [
    {
     "name": "stdout",
     "output_type": "stream",
     "text": [
      "988\n"
     ]
    }
   ],
   "source": [
    "create_nodes(graph.auto(), dict_disease, labels={'Disease'})\n",
    "print(graph.nodes.match('Disease').count())"
   ]
  },
  {
   "cell_type": "markdown",
   "metadata": {},
   "source": [
    "### Create in the DB to genes nodes"
   ]
  },
  {
   "cell_type": "code",
   "execution_count": 22,
   "metadata": {},
   "outputs": [
    {
     "name": "stdout",
     "output_type": "stream",
     "text": [
      "3556\n"
     ]
    }
   ],
   "source": [
    "create_nodes(graph.auto(), dict_gene, labels={'Gene'})\n",
    "print(graph.nodes.match('Gene').count())"
   ]
  },
  {
   "cell_type": "markdown",
   "metadata": {},
   "source": [
    "### Create relationship between disease and gene"
   ]
  },
  {
   "cell_type": "code",
   "execution_count": 23,
   "metadata": {},
   "outputs": [],
   "source": [
    "dis_gen = []\n",
    "for p in dict_relationship:\n",
    "    disease = p['AName']\n",
    "    gene = p['BName']\n",
    "    p.pop('AName')\n",
    "    p.pop('BName')\n",
    "    dis_gen.append((disease,p, gene))"
   ]
  },
  {
   "cell_type": "markdown",
   "metadata": {},
   "source": [
    "### Create the relationship between the entities. i.e. : Disease1 'ASSOCIATED_WITH' Gene1"
   ]
  },
  {
   "cell_type": "code",
   "execution_count": 24,
   "metadata": {},
   "outputs": [
    {
     "name": "stdout",
     "output_type": "stream",
     "text": [
      "None\n"
     ]
    }
   ],
   "source": [
    "rel_pb = create_relationships(graph.auto(),dis_gen,'ASSOCIATED_WITH',start_node_key=(\"Disease\",\"AName\"),end_node_key=(\"Gene\",\"BName\"))\n",
    "print(rel_pb)"
   ]
  },
  {
   "cell_type": "markdown",
   "metadata": {},
   "source": [
    "### Next step: Query the DB in Cypher Query Language using Python"
   ]
  },
  {
   "cell_type": "markdown",
   "metadata": {},
   "source": []
  }
 ],
 "metadata": {
  "kernelspec": {
   "display_name": "base",
   "language": "python",
   "name": "python3"
  },
  "language_info": {
   "codemirror_mode": {
    "name": "ipython",
    "version": 3
   },
   "file_extension": ".py",
   "mimetype": "text/x-python",
   "name": "python",
   "nbconvert_exporter": "python",
   "pygments_lexer": "ipython3",
   "version": "3.11.5"
  }
 },
 "nbformat": 4,
 "nbformat_minor": 2
}
